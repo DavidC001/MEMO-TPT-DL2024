{
  "nbformat": 4,
  "nbformat_minor": 0,
  "metadata": {
    "colab": {
      "provenance": [],
      "gpuType": "T4"
    },
    "kernelspec": {
      "name": "python3",
      "display_name": "Python 3"
    },
    "language_info": {
      "name": "python"
    },
    "accelerator": "GPU"
  },
  "cells": [
    {
      "cell_type": "code",
      "source": [
        "from google.colab import userdata\n",
        "token = userdata.get('git')\n",
        "print(token)\n",
        "\n",
        "!git clone -b TPT https://{token}@github.com/DavidC001/MEMO-TPT-DL2024.git\n",
        "\n"
      ],
      "metadata": {
        "id": "ztBxlm_9C2BJ"
      },
      "execution_count": null,
      "outputs": []
    },
    {
      "cell_type": "code",
      "source": [
        "!pip install -r MEMO-TPT-DL2024/EasyTPT/requirements.txt"
      ],
      "metadata": {
        "id": "a4KCFweGHm-O"
      },
      "execution_count": null,
      "outputs": []
    },
    {
      "cell_type": "code",
      "source": [
        "!gdown 1jAn8nsmjHUivvtcB7Q5ujM3HZsKDV30T\n",
        "!mkdir -p MEMO-TPT-DL2024/datasets\n",
        "!tar -xvf imagenet-a.tar -C MEMO-TPT-DL2024/datasets\n",
        "%cd MEMO-TPT-DL2024"
      ],
      "metadata": {
        "id": "VSUuVrZ4E0m5"
      },
      "execution_count": null,
      "outputs": []
    },
    {
      "cell_type": "code",
      "source": [
        "!git pull"
      ],
      "metadata": {
        "id": "3r_JlJnGVNtm"
      },
      "execution_count": null,
      "outputs": []
    },
    {
      "cell_type": "code",
      "source": [
        "!python EasyTPT/main.py"
      ],
      "metadata": {
        "id": "TmPMDpXBHdpN"
      },
      "execution_count": null,
      "outputs": []
    }
  ]
}